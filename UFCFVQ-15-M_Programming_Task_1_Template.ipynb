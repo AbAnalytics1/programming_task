{
 "cells": [
  {
   "cell_type": "markdown",
   "metadata": {},
   "source": [
    "# Programming for Data Science (Autumn 2021)\n",
    "# Programming Task 1\n",
    "\n"
   ]
  },
  {
   "cell_type": "markdown",
   "metadata": {},
   "source": []
  },
  {
   "cell_type": "markdown",
   "metadata": {
    "deletable": false
   },
   "source": [
    "### Requirement FR1 - Develop a function to find the arithmetic mean"
   ]
  },
  {
   "cell_type": "code",
   "execution_count": 1,
   "metadata": {},
   "outputs": [
    {
     "data": {
      "text/plain": [
       "27"
      ]
     },
     "execution_count": 1,
     "metadata": {},
     "output_type": "execute_result"
    }
   ],
   "source": [
    "# add code here\n",
    "num_list = [6, 2, 22, 21, 24, 23, 8, 9, 5, 3, 11, 28, 14, 13, 12, 26, 29, 16,    #assign elements of value to a variable \n",
    "            15, 20, 25, 1, 10, 18, 27, 19, 7]\n",
    "len(num_list)    #using built in function length to count the element in the variable "
   ]
  },
  {
   "cell_type": "code",
   "execution_count": 2,
   "metadata": {},
   "outputs": [],
   "source": [
    "def arithmetic_mean(a):\n",
    "    total = sum(a)  # find the sum\n",
    "    mean = total / len(a)\n",
    "    return mean"
   ]
  },
  {
   "cell_type": "code",
   "execution_count": 3,
   "metadata": {},
   "outputs": [
    {
     "data": {
      "text/plain": [
       "15.333333333333334"
      ]
     },
     "execution_count": 3,
     "metadata": {},
     "output_type": "execute_result"
    }
   ],
   "source": [
    "arithmetic_mean(num_list)"
   ]
  },
  {
   "cell_type": "code",
   "execution_count": null,
   "metadata": {},
   "outputs": [],
   "source": []
  },
  {
   "cell_type": "markdown",
   "metadata": {
    "deletable": false
   },
   "source": [
    "### Requirement FR2 - Develop a function to find the standard deviation"
   ]
  },
  {
   "cell_type": "code",
   "execution_count": 4,
   "metadata": {},
   "outputs": [],
   "source": [
    "# add code here\n",
    "def standard_deviation(a):\n",
    "    mean = arithmetic_mean(a)\n",
    "    variance = sum([((x-mean) ** 2) for x in a]) / len(a) #go through the array\n",
    "    std_dev = variance**0.5 \n",
    "    return std_dev"
   ]
  },
  {
   "cell_type": "code",
   "execution_count": 5,
   "metadata": {},
   "outputs": [
    {
     "data": {
      "text/plain": [
       "8.393118874676114"
      ]
     },
     "execution_count": 5,
     "metadata": {},
     "output_type": "execute_result"
    }
   ],
   "source": [
    "standard_deviation(num_list)"
   ]
  },
  {
   "cell_type": "markdown",
   "metadata": {
    "deletable": false
   },
   "source": [
    "<p style=\"color:red; font-weight:bold; font-size:xx-small\">MARK: __%</p>\n",
    "<p style=\"color:red; font-weight:bold; font-size:xx-small\">FEEDBACK: </p>"
   ]
  },
  {
   "cell_type": "markdown",
   "metadata": {
    "deletable": false
   },
   "source": [
    "### Requirement FR3 - Develop a function to find the min/max values and count "
   ]
  },
  {
   "cell_type": "markdown",
   "metadata": {},
   "source": [
    "OPTION 1"
   ]
  },
  {
   "cell_type": "code",
   "execution_count": 6,
   "metadata": {},
   "outputs": [
    {
     "data": {
      "text/plain": [
       "'Min Value: 1, Max Value: 29, Count: 27'"
      ]
     },
     "execution_count": 6,
     "metadata": {},
     "output_type": "execute_result"
    }
   ],
   "source": [
    "# add code here\n",
    "def min_max_count(a):\n",
    "    max_value = max(a)  # using max built-in function in python\n",
    "    min_value = min(a)  # using min built-in function in python\n",
    "    count = len(a)\n",
    "    return (f'Min Value: {min_value}, Max Value: {max_value}, Count: {count}')\n",
    "    # return min, max, count\n",
    "\n",
    "\n",
    "min_max_count(num_list)"
   ]
  },
  {
   "cell_type": "markdown",
   "metadata": {},
   "source": [
    "OPTION 2"
   ]
  },
  {
   "cell_type": "code",
   "execution_count": 7,
   "metadata": {},
   "outputs": [
    {
     "data": {
      "text/plain": [
       "'Min Value: 1, Max Value: 29, Count: 27'"
      ]
     },
     "execution_count": 7,
     "metadata": {},
     "output_type": "execute_result"
    }
   ],
   "source": [
    "def min_max_count(a):\n",
    "    (a).sort()\n",
    "    min_val = a[0]  # Selecting value at first index\n",
    "    max_val = a[-1]  # Selecting value at last index\n",
    "    return (f'Min Value: {min_val}, Max Value: {max_val}, Count: {len(a)}')\n",
    "\n",
    "\n",
    "min_max_count(num_list)"
   ]
  },
  {
   "cell_type": "markdown",
   "metadata": {},
   "source": [
    "OPTION 3"
   ]
  },
  {
   "cell_type": "code",
   "execution_count": 8,
   "metadata": {},
   "outputs": [
    {
     "data": {
      "text/plain": [
       "(1, 29, 27)"
      ]
     },
     "execution_count": 8,
     "metadata": {},
     "output_type": "execute_result"
    }
   ],
   "source": [
    "def min_max_count(a):\n",
    "    max = a[0]\n",
    "    for _ in a:\n",
    "        if _ > max:\n",
    "            max = _\n",
    "    min = a[0]\n",
    "    for _ in a:\n",
    "        if _ < min:\n",
    "            min = _\n",
    "    return min, max, len(a)\n",
    "\n",
    "\n",
    "min_max_count(num_list)"
   ]
  },
  {
   "cell_type": "markdown",
   "metadata": {
    "deletable": false
   },
   "source": [
    "### Requirement FR4 - Develop a function to find the 25th, 50th and 75th percentiles "
   ]
  },
  {
   "cell_type": "code",
   "execution_count": 9,
   "metadata": {},
   "outputs": [
    {
     "data": {
      "text/plain": [
       "(7.0, 14.0, 21.0)"
      ]
     },
     "execution_count": 9,
     "metadata": {},
     "output_type": "execute_result"
    }
   ],
   "source": [
    "# add code here\n",
    "def percentiles(a):\n",
    "    twenty_fifth_rank = 25 / 100 * (len(a) + 1)         #25th percentile \n",
    "    fiftieth_rank = 50 / 100 * (len(a) + 1)             #50th percentile\n",
    "    seventy_fifth_rank = 75 / 100 * (len(a) + 1)        #75th percentile\n",
    "    return twenty_fifth_rank, fiftieth_rank, seventy_fifth_rank\n",
    "\n",
    "\n",
    "percentiles(num_list)"
   ]
  },
  {
   "cell_type": "markdown",
   "metadata": {
    "deletable": false
   },
   "source": [
    "### Requirement FR5 - Develop a function to read a single column from a CSV file"
   ]
  },
  {
   "cell_type": "code",
   "execution_count": 10,
   "metadata": {},
   "outputs": [
    {
     "name": "stdout",
     "output_type": "stream",
     "text": [
      "('Hydropower', ['0.117', '41.64945459', '17.26791', '37.52781287', '1.76795', '0.885632595', '0.45726487', '0.284810423', '387.6868063', '5.125584584', '244.839096', '387.2508762', '23.14438369', '1202.43', '56.64701407', '7.512550207', '0', '1.6272', '0.016454789', '20.69612073', '13.48338', '0.015617162', '38.93203591', '13.27777778', '64.2234218', '16.9', '5.720179713', '0', '0.221', '13.81099543', '139.6678322', '16.4112', '10.77', '3.1074588', '0.694087982', '0.0245', '45.85205715', '80.997', '10.3295118', '0', '2.433342329', '0.45', '0.094557415', '1.791368', '24.17649672', '32.39511459', '1.6934', '0.072348', '26.32037732', '138.4962175', '0', '62.91198244', '35.20305729', '2.255678699', '1.288541272', '0.0165', '69.46684307', '1.852952842', '35.99700727', '30.76868807', '9.383758', '1.971', '12.346', '0', '17.56396055', '190.21311', '0', '0', '3.591', '4.712487886', '0.914864856', '2.920390756', '35.19825724', '6.369370161', '61.91687566', '34.80394017', '4.4661', '7.597013', '0', '59.51828075', '0', '9.900734781', '0', '5.464660531', '288.7063404', '6.868202', '72.08394993', '80.70625435'])\n"
     ]
    }
   ],
   "source": [
    "# add code here\n",
    "def read_single_column(file_name, col_num):\n",
    "    dis_list = []\n",
    "    with open(file_name, 'r') as filename:\n",
    "        file = filename.readlines()\n",
    "    for row in file:\n",
    "        row = row.strip('\\n')\n",
    "        allcolumns=row.split(\",\")\n",
    "        dis_list.append(allcolumns[col_num])\n",
    "    column_header = dis_list.pop(0)\n",
    "    return column_header, dis_list\n",
    "    #         keys_list = list(row)\n",
    "    #         key = keys_list[col_num]\n",
    "    #         if row[key] == '':  # Check for nan values and assigning to 0\n",
    "    #             dis_list.append(0.0)\n",
    "    #         else:\n",
    "    #             dis_list.append(float(row[key]))\n",
    "    # return key, dis_list\n",
    "\n",
    "\n",
    "column_number = 0\n",
    "print(read_single_column('task1.csv', column_number))"
   ]
  },
  {
   "cell_type": "markdown",
   "metadata": {
    "deletable": false
   },
   "source": [
    "### Requirement FR6 - Develop a function to read CSV data from a file into memory"
   ]
  },
  {
   "cell_type": "code",
   "execution_count": 11,
   "metadata": {},
   "outputs": [
    {
     "name": "stdout",
     "output_type": "stream",
     "text": [
      "{'Hydropower': ['0.117', '41.64945459', '17.26791', '37.52781287', '1.76795', '0.885632595', '0.45726487', '0.284810423', '387.6868063', '5.125584584', '244.839096', '387.2508762', '23.14438369', '1202.43', '56.64701407', '7.512550207', '0', '1.6272', '0.016454789', '20.69612073', '13.48338', '0.015617162', '38.93203591', '13.27777778', '64.2234218', '16.9', '5.720179713', '0', '0.221', '13.81099543', '139.6678322', '16.4112', '10.77', '3.1074588', '0.694087982', '0.0245', '45.85205715', '80.997', '10.3295118', '0', '2.433342329', '0.45', '0.094557415', '1.791368', '24.17649672', '32.39511459', '1.6934', '0.072348', '26.32037732', '138.4962175', '0', '62.91198244', '35.20305729', '2.255678699', '1.288541272', '0.0165', '69.46684307', '1.852952842', '35.99700727', '30.76868807', '9.383758', '1.971', '12.346', '0', '17.56396055', '190.21311', '0', '0', '3.591', '4.712487886', '0.914864856', '2.920390756', '35.19825724', '6.369370161', '61.91687566', '34.80394017', '4.4661', '7.597013', '0', '59.51828075', '0', '9.900734781', '0', '5.464660531', '288.7063404', '6.868202', '72.08394993', '80.70625435'], 'Solar': ['0.603', '0.108128528', '12.081099', '1.578641473', '0.03926', '0.299208359', '0.134485968', '3.971724224', '3.137078404', '1.103538835', '0.881300118', '3.5462509', '5.118720829', '177.5', '0.011999821', '0.073591668', '0.19183', '2.3386', '0.952973', '0.037991538', '1.035739071', '0.012679515', '0.441810565', '0.1622', '10.15871272', '46.164', '3.791092002', '0.000961', '0.588876056', '0', '30.73240318', '0.01836', '0.037698887', '0.057143443', '0.022173967', '1.793230515', '23.23072906', '71.6883359', '0.1146904', '0.088143148', '0.001263953', '0.08', '0.117480937', '0.022788', '0.459692933', '2.2428', '0.9502', '3.2012', '0.098244292', '0.064488547', '0.013718674', '0.585723529', '0.01484375', '0.697743206', '3.020039802', '0.111623598', '0.675171297', '0.128029166', '2.12332226', '0.745192715', '1.249117', '0.299', '1.02', '0.009423834', '1.674', '0.57106', '0.154871783', '0.283982555', '0.585', '0.253621', '4.935234819', '9.349876912', '12.52057273', '0.205337811', '0.373100151', '1.957371429', '2.733', '4.719656655', '0.003989071', '7.890694078', '0.00696', '1.286493457', '0.9468835', '12.92181535', '97.11818182', '0', '0.010008089', '0.080231508'], 'Wind': ['0.01', '1.412699784', '16.266484', '5.900014713', '0.0822', '0.005086066', '0.117978175', '7.468573702', '48.47990705', '1.378292235', '0.977082975', '32.17005152', '3.688710149', '366', '0.043437355', '1.379085419', '0.22061', '0.6093', '13.89880328', '0.080257771', '2.438966811', '0.633888557', '0.531134615', '5.857', '28.16738103', '111.59', '6.300269103', '0.000825', '0.608', '0.004365699', '60.31116', '0.198', '0.361973742', '0', '8.390989769', '0.105269485', '17.47251773', '6.789652', '0.5412648', '0.017452186', '0.123287671', '1.145', '0.307147387', '0.097338', '0', '12.62920683', '3.8407', '10.549225', '2.046003874', '3.875881', '0', '0.497064956', '0.0079', '1.428156269', '0.574940541', '0.453', '4.80031359', '0', '1.72268087', '1.493633864', '1.152924', '12.845', '12.657', '0', '6.497', '0.22774', '0', '0', '0.005', '0.006159', '6.894765181', '2.40369047', '50.83600814', '0.305662189', '16.81339144', '0.133', '1.6794', '0.76415852', '0', '19.825697', '0', '1.1274', '0.00075', '57.11571962', '277.7291061', '0', '0', '0.326664064'], 'Other': ['0', '2.29693941', '3.539346', '4.763252129', '0.0811', '0.008019927', '0.109149431', '5.427544126', '52.88998503', '0.496261903', '0.679177831', '9.588635536', '6.737367486', '90.72346175', '2.088838157', '0.682716361', '0.05136', '4.7285', '6.119796142', '0.427967651', '0', '1.369850244', '0.23331662', '12.86168421', '8.521197318', '51.437', '0.298303335', '0.100724044', '2.371182482', '6.009414916', '30.45869682', '14.5368', '0.021740437', '0', '1.242427268', '0.115', '25.31219835', '33.6554308', '0.0024284', '0', '0.962146042', '0.47', '0.226101964', '0.05405', '1.004339878', '6.480283932', '0', '4.875860296', '8.320907599', '0.178266653', '0', '0.163131005', '0.022', '1.39699069', '0.0041', '', '2.647315578', '0.222533905', '1.667658529', '0.674414968', '11.540128', '6.331', '3.439', '0.114486339', '0.4617102', '0.4645', '0', '0.903', '1.419478261', '0.28827567', '0.530431005', '10.1747942', '7.378921565', '0.11339364', '11.85871366', '1.974071402', '2.01435', '12.31650175', '0', '9.983786807', '0', '0.218506543', '0.005983607', '35.58660245', '83.67703684', '0', '0', '0.060833333']}\n"
     ]
    }
   ],
   "source": [
    "def read_multiple_columns(file_name):\n",
    "    all = dict()\n",
    "    header_list = []\n",
    "    with open(file_name, 'r') as filename:\n",
    "        file = filename.readlines()   \n",
    "    \n",
    "    for row in file:\n",
    "        row = row.strip('\\n')\n",
    "        allcolumns=row.split(\",\")\n",
    "        header_list.append(allcolumns)\n",
    "    column_header = header_list.pop(0)\n",
    "    for i in range(len(column_header)): \n",
    "        all_values = read_single_column(file_name, i)[1]\n",
    "        all[column_header[i]] = all_values\n",
    "\n",
    "\n",
    "    return all\n",
    "        \n",
    "    \n",
    "print(read_multiple_columns('task1.csv'))\n"
   ]
  },
  {
   "cell_type": "code",
   "execution_count": null,
   "metadata": {},
   "outputs": [],
   "source": []
  },
  {
   "cell_type": "markdown",
   "metadata": {
    "deletable": false
   },
   "source": [
    "### Requirement FR7 - Develop a function to generate a set of statistics for a given data file"
   ]
  },
  {
   "cell_type": "code",
   "execution_count": 12,
   "metadata": {},
   "outputs": [
    {
     "name": "stdout",
     "output_type": "stream",
     "text": [
      "{'Stats': ['Mean', 'Standard Deviation', 'Min_val', 'Max_val', 'Count', '25th Percentile', '50th Percentile', '75th Percentile'], 'Hydropower': [48.821284107874995, 143.61156541119564, 0.0, 1202.43, 88, 22.25, 44.5, 66.75], 'Solar': [6.617743776193181, 23.050166228825766, 0.0, 177.5, 88, 22.25, 44.5, 66.75], 'Wind': [14.380072730647731, 50.17237934719127, 0.0, 366.0, 88, 22.25, 44.5, 66.75], 'Other': [7.013935866954023, 15.911752479774876, 0.0, 90.72346175, 87, 22.0, 44.0, 66.0]}\n"
     ]
    }
   ],
   "source": [
    "def stats(file_name):\n",
    "    \n",
    "    data = read_multiple_columns('task1.csv')\n",
    "\n",
    "    statistics_values = dict()\n",
    "    \n",
    "    statistics_values[\"Stats\"] =[\"Mean\", \"Standard Deviation\", \"Min_val\", \"Max_val\", \"Count\", \"25th Percentile\", \"50th Percentile\", \"75th Percentile\"]\n",
    "\n",
    "    for key, i in data.items(): \n",
    "        statistics_values[key] = []\n",
    "        new_data = []\n",
    "        for j in i: \n",
    "            try: \n",
    "                new_data.append(float(j))\n",
    "            except: \n",
    "                pass\n",
    "        \n",
    "        statistics_values[key].append(arithmetic_mean(new_data))   \n",
    "        statistics_values[key].append(standard_deviation(new_data))\n",
    "        statistics_values[key].append(min_max_count(new_data)[0])\n",
    "        statistics_values[key].append(min_max_count(new_data)[1])\n",
    "        statistics_values[key].append(min_max_count(new_data)[2])\n",
    "        statistics_values[key].append(percentiles(new_data)[0])\n",
    "        statistics_values[key].append(percentiles(new_data)[1])\n",
    "        statistics_values[key].append(percentiles(new_data)[2])    \n",
    "\n",
    "    return statistics_values\n",
    "\n",
    "\n",
    "print(stats('task1.csv'))"
   ]
  },
  {
   "cell_type": "code",
   "execution_count": 13,
   "metadata": {},
   "outputs": [
    {
     "data": {
      "text/plain": [
       "{'Hydropower': [48.821284107874995,\n",
       "  143.61156541119564,\n",
       "  0.0,\n",
       "  1202.43,\n",
       "  88,\n",
       "  22.25,\n",
       "  44.5,\n",
       "  66.75],\n",
       " 'Solar': [6.617743776193181,\n",
       "  23.050166228825766,\n",
       "  0.0,\n",
       "  177.5,\n",
       "  88,\n",
       "  22.25,\n",
       "  44.5,\n",
       "  66.75],\n",
       " 'Wind': [14.380072730647731,\n",
       "  50.17237934719127,\n",
       "  0.0,\n",
       "  366.0,\n",
       "  88,\n",
       "  22.25,\n",
       "  44.5,\n",
       "  66.75],\n",
       " 'Other': [7.013935866954023,\n",
       "  15.911752479774876,\n",
       "  0.0,\n",
       "  90.72346175,\n",
       "  87,\n",
       "  22.0,\n",
       "  44.0,\n",
       "  66.0]}"
      ]
     },
     "execution_count": 13,
     "metadata": {},
     "output_type": "execute_result"
    }
   ],
   "source": [
    "def stats(file_name):\n",
    "    header_list =[]\n",
    "    with open(file_name, 'r') as filename:\n",
    "        file = filename.readlines()\n",
    "    for row in file:\n",
    "        row = row.strip('\\n')\n",
    "        allcolumns= row.split(\",\")\n",
    "        header_list.append(allcolumns)\n",
    "\n",
    "    data = read_multiple_columns('task1.csv')\n",
    "    statistics_values = dict()\n",
    "\n",
    "    for key, i in data.items():\n",
    "        statistics_values[key]=[]\n",
    "        new_data =[]\n",
    "        for j in i:\n",
    "            try:\n",
    "                new_data.append(float(j))\n",
    "            except:\n",
    "                pass\n",
    "\n",
    "        statistics_values[key].append(arithmetic_mean(new_data))\n",
    "        statistics_values[key].append(standard_deviation(new_data))\n",
    "        statistics_values[key].append(min_max_count(new_data)[0])\n",
    "        statistics_values[key].append(min_max_count(new_data)[1])\n",
    "        statistics_values[key].append(min_max_count(new_data)[2])\n",
    "        statistics_values[key].append(percentiles(new_data)[0])\n",
    "        statistics_values[key].append(percentiles(new_data)[1])\n",
    "        statistics_values[key].append(percentiles(new_data)[2])\n",
    "\n",
    "    return(statistics_values)\n",
    "\n",
    "stats('task1.csv')\n"
   ]
  },
  {
   "cell_type": "markdown",
   "metadata": {
    "deletable": false
   },
   "source": [
    "<p style=\"color:red; font-weight:bold; font-size:xx-small\">MARK: __%</p>\n",
    "<p style=\"color:red; font-weight:bold; font-size:xx-small\">FEEDBACK: </p>"
   ]
  },
  {
   "cell_type": "markdown",
   "metadata": {
    "deletable": false
   },
   "source": [
    "### Requirement FR8 - Develop a function to print a custom table"
   ]
  },
  {
   "cell_type": "code",
   "execution_count": 14,
   "metadata": {},
   "outputs": [
    {
     "name": "stdout",
     "output_type": "stream",
     "text": [
      "                   **************************************************************************************************************\n",
      "                   * Hydropower                * Solar                     * Wind                      * Other                    \n",
      "**********************************************************************************************************************************\n",
      " * Count           * 88                        * 88                        * 88                        * 87                       \n",
      " * Mean            * 48.821284107874995        * 6.617743776193181         * 14.380072730647731        * 7.013935866954023        \n",
      " * Stdev           * 143.61156541119564        * 23.050166228825766        * 50.17237934719127         * 15.911752479774876       \n",
      " * Min             * 0.0                       * 0.0                       * 0.0                       * 0.0                      \n",
      " * 25th            * 22.25                     * 22.25                     * 22.25                     * 22.0                     \n",
      " * 50th            * 44.5                      * 44.5                      * 44.5                      * 44.0                     \n",
      " * 75th            * 66.75                     * 66.75                     * 66.75                     * 66.0                     \n",
      " * Max             * 1202.43                   * 177.5                     * 366.0                     * 90.72346175              \n",
      "**********************************************************************************************************************************\n"
     ]
    }
   ],
   "source": [
    "# add code here\n",
    "x= stats('task1.csv')\n",
    "\n",
    "#push each statistics into sep arrays\n",
    "counts=[]\n",
    "for loop in x.keys():\n",
    "    counts.append(x[loop][4])\n",
    "\n",
    "means=[]\n",
    "for count in x.keys():\n",
    "    means.append(x[count][0])\n",
    "\n",
    "sdv=[]\n",
    "for count in x.keys():\n",
    "    sdv.append(x[count][1])\n",
    "\n",
    "mins=[]\n",
    "for loop in x.keys():\n",
    "    mins.append(x[loop][2])\n",
    "\n",
    "firstQuarts=[]\n",
    "for loop in x.keys():\n",
    "    firstQuarts.append(x[loop][5])\n",
    "\n",
    "medians=[]\n",
    "for loop in x.keys():\n",
    "    medians.append(x[loop][6])\n",
    "\n",
    "thirdQuarts=[]\n",
    "for loop in x.keys():\n",
    "    thirdQuarts.append(x[loop][7])\n",
    "\n",
    "maxs=[]\n",
    "for loop in x.keys():\n",
    "    maxs.append(x[loop][3])\n",
    "\n",
    "#assign row headings to an array\n",
    "keys=['Count','Mean','Stdev','Min','25th','50th','75th','Max']\n",
    "\n",
    "#assign their corresponding values into another array\n",
    "values =[counts, means, sdv, mins, firstQuarts,medians, thirdQuarts, maxs]\n",
    "\n",
    "#combine them into a dictionary\n",
    "diction = dict(zip(keys,values))\n",
    "\n",
    "#table header\n",
    "headerRow= \"   {:<15} * {:<25} * {:<25} * {:<25} * {:<25}\".format('','Hydropower','Solar','Wind','Other')\n",
    "lenTable = len(headerRow)   #calculate length of table\n",
    "\n",
    "print (\"   {:<15} {:<0}\".format('','*'* (lenTable-20) ))\n",
    "print (headerRow)\n",
    "print(\"*\"* lenTable) #repeat the asterisks character for the length of the table\n",
    "\n",
    "# loop through rows of each of statistics and print their column values\n",
    "for rows, cols in diction.items():\n",
    "    a, b, c, d = cols\n",
    "    print (\" * {:<15} * {:<25} * {:<25} * {:<25} * {:<25}\".format(rows, a, b, c, d))\n",
    "print(\"*\"* lenTable)\n",
    "               \n",
    "\n",
    "\n",
    "\n",
    "\n",
    "\n",
    "\n",
    "     \n",
    "\n",
    "\n"
   ]
  },
  {
   "cell_type": "markdown",
   "metadata": {
    "deletable": false
   },
   "source": []
  },
  {
   "cell_type": "markdown",
   "metadata": {},
   "source": [
    "Add text here"
   ]
  }
 ],
 "metadata": {
  "kernelspec": {
   "display_name": "Python 3",
   "language": "python",
   "name": "python3"
  },
  "language_info": {
   "codemirror_mode": {
    "name": "ipython",
    "version": 3
   },
   "file_extension": ".py",
   "mimetype": "text/x-python",
   "name": "python",
   "nbconvert_exporter": "python",
   "pygments_lexer": "ipython3",
   "version": "3.9.7"
  }
 },
 "nbformat": 4,
 "nbformat_minor": 4
}
